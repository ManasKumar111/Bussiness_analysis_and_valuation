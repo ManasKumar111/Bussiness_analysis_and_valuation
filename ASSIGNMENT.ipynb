{
 "cells": [
  {
   "cell_type": "code",
   "execution_count": 1,
   "id": "77ce02d2",
   "metadata": {},
   "outputs": [
    {
     "name": "stdout",
     "output_type": "stream",
     "text": [
      "Requirement already satisfied: yahoo_fin in c:\\users\\manas\\desktop\\sample_project_1\\env\\lib\\site-packages (0.8.9.1)\n",
      "Requirement already satisfied: requests-html in c:\\users\\manas\\desktop\\sample_project_1\\env\\lib\\site-packages (from yahoo_fin) (0.10.0)\n",
      "Requirement already satisfied: pandas in c:\\users\\manas\\desktop\\sample_project_1\\env\\lib\\site-packages (from yahoo_fin) (1.3.4)\n",
      "Requirement already satisfied: requests in c:\\users\\manas\\desktop\\sample_project_1\\env\\lib\\site-packages (from yahoo_fin) (2.28.1)\n",
      "Requirement already satisfied: feedparser in c:\\users\\manas\\desktop\\sample_project_1\\env\\lib\\site-packages (from yahoo_fin) (6.0.10)\n",
      "Requirement already satisfied: sgmllib3k in c:\\users\\manas\\desktop\\sample_project_1\\env\\lib\\site-packages (from feedparser->yahoo_fin) (1.0.0)\n",
      "Requirement already satisfied: numpy>=1.17.3 in c:\\users\\manas\\desktop\\sample_project_1\\env\\lib\\site-packages (from pandas->yahoo_fin) (1.21.2)\n",
      "Requirement already satisfied: pytz>=2017.3 in c:\\users\\manas\\desktop\\sample_project_1\\env\\lib\\site-packages (from pandas->yahoo_fin) (2021.3)\n",
      "Requirement already satisfied: python-dateutil>=2.7.3 in c:\\users\\manas\\desktop\\sample_project_1\\env\\lib\\site-packages (from pandas->yahoo_fin) (2.8.2)\n",
      "Requirement already satisfied: six>=1.5 in c:\\users\\manas\\desktop\\sample_project_1\\env\\lib\\site-packages (from python-dateutil>=2.7.3->pandas->yahoo_fin) (1.16.0)\n",
      "Requirement already satisfied: urllib3<1.27,>=1.21.1 in c:\\users\\manas\\desktop\\sample_project_1\\env\\lib\\site-packages (from requests->yahoo_fin) (1.26.12)\n",
      "Requirement already satisfied: idna<4,>=2.5 in c:\\users\\manas\\desktop\\sample_project_1\\env\\lib\\site-packages (from requests->yahoo_fin) (3.4)\n",
      "Requirement already satisfied: certifi>=2017.4.17 in c:\\users\\manas\\desktop\\sample_project_1\\env\\lib\\site-packages (from requests->yahoo_fin) (2021.10.8)\n",
      "Requirement already satisfied: charset-normalizer<3,>=2 in c:\\users\\manas\\desktop\\sample_project_1\\env\\lib\\site-packages (from requests->yahoo_fin) (2.1.1)\n",
      "Requirement already satisfied: parse in c:\\users\\manas\\desktop\\sample_project_1\\env\\lib\\site-packages (from requests-html->yahoo_fin) (1.19.0)\n",
      "Requirement already satisfied: fake-useragent in c:\\users\\manas\\desktop\\sample_project_1\\env\\lib\\site-packages (from requests-html->yahoo_fin) (1.1.1)\n",
      "Requirement already satisfied: w3lib in c:\\users\\manas\\desktop\\sample_project_1\\env\\lib\\site-packages (from requests-html->yahoo_fin) (2.1.1)\n",
      "Requirement already satisfied: bs4 in c:\\users\\manas\\desktop\\sample_project_1\\env\\lib\\site-packages (from requests-html->yahoo_fin) (0.0.1)\n",
      "Requirement already satisfied: pyquery in c:\\users\\manas\\desktop\\sample_project_1\\env\\lib\\site-packages (from requests-html->yahoo_fin) (1.4.3)\n",
      "Requirement already satisfied: pyppeteer>=0.0.14 in c:\\users\\manas\\desktop\\sample_project_1\\env\\lib\\site-packages (from requests-html->yahoo_fin) (1.0.2)\n",
      "Requirement already satisfied: websockets<11.0,>=10.0 in c:\\users\\manas\\desktop\\sample_project_1\\env\\lib\\site-packages (from pyppeteer>=0.0.14->requests-html->yahoo_fin) (10.4)\n",
      "Requirement already satisfied: appdirs<2.0.0,>=1.4.3 in c:\\users\\manas\\desktop\\sample_project_1\\env\\lib\\site-packages (from pyppeteer>=0.0.14->requests-html->yahoo_fin) (1.4.4)\n",
      "Requirement already satisfied: pyee<9.0.0,>=8.1.0 in c:\\users\\manas\\desktop\\sample_project_1\\env\\lib\\site-packages (from pyppeteer>=0.0.14->requests-html->yahoo_fin) (8.2.2)\n",
      "Requirement already satisfied: tqdm<5.0.0,>=4.42.1 in c:\\users\\manas\\desktop\\sample_project_1\\env\\lib\\site-packages (from pyppeteer>=0.0.14->requests-html->yahoo_fin) (4.64.1)\n",
      "Requirement already satisfied: importlib-metadata>=1.4 in c:\\users\\manas\\desktop\\sample_project_1\\env\\lib\\site-packages (from pyppeteer>=0.0.14->requests-html->yahoo_fin) (4.11.3)\n",
      "Requirement already satisfied: zipp>=0.5 in c:\\users\\manas\\desktop\\sample_project_1\\env\\lib\\site-packages (from importlib-metadata>=1.4->pyppeteer>=0.0.14->requests-html->yahoo_fin) (3.7.0)\n",
      "Requirement already satisfied: colorama in c:\\users\\manas\\desktop\\sample_project_1\\env\\lib\\site-packages (from tqdm<5.0.0,>=4.42.1->pyppeteer>=0.0.14->requests-html->yahoo_fin) (0.4.4)\n",
      "Requirement already satisfied: beautifulsoup4 in c:\\users\\manas\\desktop\\sample_project_1\\env\\lib\\site-packages (from bs4->requests-html->yahoo_fin) (4.10.0)\n",
      "Requirement already satisfied: soupsieve>1.2 in c:\\users\\manas\\desktop\\sample_project_1\\env\\lib\\site-packages (from beautifulsoup4->bs4->requests-html->yahoo_fin) (2.3.1)\n",
      "Requirement already satisfied: importlib-resources>=5.0 in c:\\users\\manas\\desktop\\sample_project_1\\env\\lib\\site-packages (from fake-useragent->requests-html->yahoo_fin) (5.10.1)\n",
      "Requirement already satisfied: lxml>=2.1 in c:\\users\\manas\\desktop\\sample_project_1\\env\\lib\\site-packages (from pyquery->requests-html->yahoo_fin) (4.9.1)\n",
      "Requirement already satisfied: cssselect>0.7.9 in c:\\users\\manas\\desktop\\sample_project_1\\env\\lib\\site-packages (from pyquery->requests-html->yahoo_fin) (1.2.0)\n",
      "Note: you may need to restart the kernel to use updated packages.\n"
     ]
    }
   ],
   "source": [
    "pip install yahoo_fin"
   ]
  },
  {
   "cell_type": "code",
   "execution_count": 9,
   "id": "7da24100",
   "metadata": {},
   "outputs": [
    {
     "name": "stdout",
     "output_type": "stream",
     "text": [
      "Index([], dtype='object')\n"
     ]
    }
   ],
   "source": [
    "import yahoo_fin.stock_info as yf\n",
    "ticker ='GODREJPROP.NS'\n",
    "balance_sheet =yf.get_balance_sheet(ticker)\n",
    "# print(balance_sheet)\n",
    "print(balance_sheet.columns)"
   ]
  },
  {
   "cell_type": "code",
   "execution_count": null,
   "id": "2fca605c",
   "metadata": {},
   "outputs": [],
   "source": []
  }
 ],
 "metadata": {
  "kernelspec": {
   "display_name": "Python 3 (ipykernel)",
   "language": "python",
   "name": "python3"
  },
  "language_info": {
   "codemirror_mode": {
    "name": "ipython",
    "version": 3
   },
   "file_extension": ".py",
   "mimetype": "text/x-python",
   "name": "python",
   "nbconvert_exporter": "python",
   "pygments_lexer": "ipython3",
   "version": "3.9.12"
  }
 },
 "nbformat": 4,
 "nbformat_minor": 5
}
