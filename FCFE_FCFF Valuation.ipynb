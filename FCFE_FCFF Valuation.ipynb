{
 "cells": [
  {
   "cell_type": "code",
   "execution_count": 11,
   "id": "242e7a25",
   "metadata": {},
   "outputs": [
    {
     "ename": "IndexError",
     "evalue": "list index out of range",
     "output_type": "error",
     "traceback": [
      "\u001b[1;31m---------------------------------------------------------------------------\u001b[0m",
      "\u001b[1;31mIndexError\u001b[0m                                Traceback (most recent call last)",
      "Input \u001b[1;32mIn [11]\u001b[0m, in \u001b[0;36m<cell line: 15>\u001b[1;34m()\u001b[0m\n\u001b[0;32m     13\u001b[0m     revenue_g\u001b[38;5;241m.\u001b[39mappend(item[\u001b[38;5;124m'\u001b[39m\u001b[38;5;124mrevenue\u001b[39m\u001b[38;5;124m'\u001b[39m])\n\u001b[0;32m     14\u001b[0m     count \u001b[38;5;241m=\u001b[39m count \u001b[38;5;241m+\u001b[39m \u001b[38;5;241m1\u001b[39m\n\u001b[1;32m---> 15\u001b[0m revenue_g \u001b[38;5;241m=\u001b[39m (\u001b[43mrevenue_g\u001b[49m\u001b[43m[\u001b[49m\u001b[38;5;241;43m0\u001b[39;49m\u001b[43m]\u001b[49m \u001b[38;5;241m-\u001b[39m revenue_g[\u001b[38;5;241m1\u001b[39m]) \u001b[38;5;241m/\u001b[39mrevenue_g[\u001b[38;5;241m0\u001b[39m] \n\u001b[0;32m     16\u001b[0m \u001b[38;5;28mprint\u001b[39m(revenue_g)\n\u001b[0;32m     17\u001b[0m \u001b[38;5;66;03m#ouctome\u001b[39;00m\n",
      "\u001b[1;31mIndexError\u001b[0m: list index out of range"
     ]
    }
   ],
   "source": [
    "import requests\n",
    "import numpy as np\n",
    "import pandas as pd\n",
    "company = ''\n",
    "demo = 'e74ac61f759e401e883132cbdf5946f8'\n",
    "IS = requests.get(f'https://financialmodelingprep.com/api/v3/income-statement/{company}?apikey={demo}').json()\n",
    "count = 0\n",
    "#get revenue growth to estimate future sales\n",
    "revenue_g = []\n",
    "for item in IS:\n",
    "  if count < 4:\n",
    "    #print(item)\n",
    "    revenue_g.append(item['revenue'])\n",
    "    count = count + 1\n",
    "revenue_g = (revenue_g[0] - revenue_g[1]) /revenue_g[0] \n",
    "print(revenue_g)\n",
    "#ouctome\n",
    "0.15469210475913925"
   ]
  },
  {
   "cell_type": "code",
   "execution_count": null,
   "id": "7bf05001",
   "metadata": {},
   "outputs": [],
   "source": []
  }
 ],
 "metadata": {
  "kernelspec": {
   "display_name": "Python 3 (ipykernel)",
   "language": "python",
   "name": "python3"
  },
  "language_info": {
   "codemirror_mode": {
    "name": "ipython",
    "version": 3
   },
   "file_extension": ".py",
   "mimetype": "text/x-python",
   "name": "python",
   "nbconvert_exporter": "python",
   "pygments_lexer": "ipython3",
   "version": "3.9.12"
  }
 },
 "nbformat": 4,
 "nbformat_minor": 5
}
